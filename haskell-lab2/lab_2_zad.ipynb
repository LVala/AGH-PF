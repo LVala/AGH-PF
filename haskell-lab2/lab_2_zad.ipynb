{
 "cells": [
  {
   "cell_type": "markdown",
   "id": "e4b1b84a",
   "metadata": {},
   "source": [
    "# Lab_2"
   ]
  },
  {
   "cell_type": "markdown",
   "id": "9c8d300a",
   "metadata": {},
   "source": [
    "## Zadania #1"
   ]
  },
  {
   "cell_type": "markdown",
   "id": "411cf4f9",
   "metadata": {},
   "source": [
    "**1.1 Dodać nawiasy w deklaracji funkcji add2C**"
   ]
  },
  {
   "cell_type": "code",
   "execution_count": 13,
   "id": "ea23287f",
   "metadata": {},
   "outputs": [],
   "source": [
    "add2T :: Num a => (a, a) -> a\n",
    "add2T (x, y) = x + y\n",
    "\n",
    "add2C :: Num a => (a -> (a -> a))\n",
    "add2C x y = x + y"
   ]
  },
  {
   "cell_type": "code",
   "execution_count": 14,
   "id": "92de6dd5",
   "metadata": {},
   "outputs": [
    {
     "data": {
      "text/plain": [
       "3"
      ]
     },
     "metadata": {},
     "output_type": "display_data"
    }
   ],
   "source": [
    "add2C 1 2"
   ]
  },
  {
   "cell_type": "markdown",
   "id": "5cb5cde3",
   "metadata": {},
   "source": [
    "**1.2 Podać definicje funkcji add3T i add3C**"
   ]
  },
  {
   "cell_type": "code",
   "execution_count": 4,
   "id": "27491b05",
   "metadata": {},
   "outputs": [],
   "source": [
    "add3T :: Num a => (a, a, a) -> a\n",
    "add3T (x, y, z) = x + y + z\n",
    "\n",
    "add3C :: Num a => a -> a -> a -> a\n",
    "add3C x y z = x + y + z"
   ]
  },
  {
   "cell_type": "code",
   "execution_count": 5,
   "id": "faa6901c",
   "metadata": {},
   "outputs": [
    {
     "data": {
      "text/plain": [
       "6"
      ]
     },
     "metadata": {},
     "output_type": "display_data"
    },
    {
     "data": {
      "text/plain": [
       "6"
      ]
     },
     "metadata": {},
     "output_type": "display_data"
    }
   ],
   "source": [
    "add3T (1, 2, 3)\n",
    "add3C 1 2 3"
   ]
  },
  {
   "cell_type": "markdown",
   "id": "d15179ae",
   "metadata": {},
   "source": [
    "**1.3 Dodać nawiasy w deklaracji typu add3C i w wywołaniu**"
   ]
  },
  {
   "cell_type": "code",
   "execution_count": 6,
   "id": "f8871ce5",
   "metadata": {},
   "outputs": [],
   "source": [
    "add3C :: Num a => (a -> (a -> (a -> a)))\n",
    "add3C x y z = x + y + z"
   ]
  },
  {
   "cell_type": "code",
   "execution_count": 8,
   "id": "889b49c4",
   "metadata": {},
   "outputs": [
    {
     "data": {
      "text/html": [
       "<style>/* Styles used for the Hoogle display in the pager */\n",
       ".hoogle-doc {\n",
       "display: block;\n",
       "padding-bottom: 1.3em;\n",
       "padding-left: 0.4em;\n",
       "}\n",
       ".hoogle-code {\n",
       "display: block;\n",
       "font-family: monospace;\n",
       "white-space: pre;\n",
       "}\n",
       ".hoogle-text {\n",
       "display: block;\n",
       "}\n",
       ".hoogle-name {\n",
       "color: green;\n",
       "font-weight: bold;\n",
       "}\n",
       ".hoogle-head {\n",
       "font-weight: bold;\n",
       "}\n",
       ".hoogle-sub {\n",
       "display: block;\n",
       "margin-left: 0.4em;\n",
       "}\n",
       ".hoogle-package {\n",
       "font-weight: bold;\n",
       "font-style: italic;\n",
       "}\n",
       ".hoogle-module {\n",
       "font-weight: bold;\n",
       "}\n",
       ".hoogle-class {\n",
       "font-weight: bold;\n",
       "}\n",
       ".get-type {\n",
       "color: green;\n",
       "font-weight: bold;\n",
       "font-family: monospace;\n",
       "display: block;\n",
       "white-space: pre-wrap;\n",
       "}\n",
       ".show-type {\n",
       "color: green;\n",
       "font-weight: bold;\n",
       "font-family: monospace;\n",
       "margin-left: 1em;\n",
       "}\n",
       ".mono {\n",
       "font-family: monospace;\n",
       "display: block;\n",
       "}\n",
       ".err-msg {\n",
       "color: red;\n",
       "font-style: italic;\n",
       "font-family: monospace;\n",
       "white-space: pre;\n",
       "display: block;\n",
       "}\n",
       "#unshowable {\n",
       "color: red;\n",
       "font-weight: bold;\n",
       "}\n",
       ".err-msg.in.collapse {\n",
       "padding-top: 0.7em;\n",
       "}\n",
       ".highlight-code {\n",
       "white-space: pre;\n",
       "font-family: monospace;\n",
       "}\n",
       ".suggestion-warning { \n",
       "font-weight: bold;\n",
       "color: rgb(200, 130, 0);\n",
       "}\n",
       ".suggestion-error { \n",
       "font-weight: bold;\n",
       "color: red;\n",
       "}\n",
       ".suggestion-name {\n",
       "font-weight: bold;\n",
       "}\n",
       "</style><div class=\"suggestion-name\" style=\"clear:both;\">Redundant bracket</div><div class=\"suggestion-row\" style=\"float: left;\"><div class=\"suggestion-warning\">Found:</div><div class=\"highlight-code\" id=\"haskell\">(((add3C 1) 2) 3)</div></div><div class=\"suggestion-row\" style=\"float: left;\"><div class=\"suggestion-warning\">Why Not:</div><div class=\"highlight-code\" id=\"haskell\">((add3C 1) 2) 3</div></div><div class=\"suggestion-name\" style=\"clear:both;\">Redundant bracket</div><div class=\"suggestion-row\" style=\"float: left;\"><div class=\"suggestion-warning\">Found:</div><div class=\"highlight-code\" id=\"haskell\">((add3C 1) 2) 3</div></div><div class=\"suggestion-row\" style=\"float: left;\"><div class=\"suggestion-warning\">Why Not:</div><div class=\"highlight-code\" id=\"haskell\">(add3C 1) 2 3</div></div><div class=\"suggestion-name\" style=\"clear:both;\">Redundant bracket</div><div class=\"suggestion-row\" style=\"float: left;\"><div class=\"suggestion-warning\">Found:</div><div class=\"highlight-code\" id=\"haskell\">(add3C 1) 2</div></div><div class=\"suggestion-row\" style=\"float: left;\"><div class=\"suggestion-warning\">Why Not:</div><div class=\"highlight-code\" id=\"haskell\">add3C 1 2</div></div>"
      ],
      "text/plain": [
       "Line 1: Redundant bracket\n",
       "Found:\n",
       "(((add3C 1) 2) 3)\n",
       "Why not:\n",
       "((add3C 1) 2) 3Line 1: Redundant bracket\n",
       "Found:\n",
       "((add3C 1) 2) 3\n",
       "Why not:\n",
       "(add3C 1) 2 3Line 1: Redundant bracket\n",
       "Found:\n",
       "(add3C 1) 2\n",
       "Why not:\n",
       "add3C 1 2"
      ]
     },
     "metadata": {},
     "output_type": "display_data"
    },
    {
     "data": {
      "text/plain": [
       "6"
      ]
     },
     "metadata": {},
     "output_type": "display_data"
    }
   ],
   "source": [
    "(((add3C 1) 2) 3)"
   ]
  },
  {
   "cell_type": "markdown",
   "id": "3a47dafd",
   "metadata": {},
   "source": [
    "**1.4 Napisać i sprawdzić działanie funkcji:**"
   ]
  },
  {
   "cell_type": "code",
   "execution_count": 12,
   "id": "d82ebdd2",
   "metadata": {},
   "outputs": [],
   "source": [
    "curry2 :: ((a, b) -> c) -> a -> b -> c\n",
    "curry2 f x y = f (x, y)\n",
    "\n",
    "uncurry2 :: (a -> b -> c) -> (a, b) -> c\n",
    "uncurry2 f (x, y) = f x y\n",
    "\n",
    "curry3 :: ((a, b, c) -> d) -> a -> b -> c -> d\n",
    "curry3 f x y z = f (x, y, z)\n",
    "\n",
    "uncurry3 :: (a -> b -> c -> d) -> (a, b, c) -> d\n",
    "uncurry3 f (x, y, z) = f x y z"
   ]
  },
  {
   "cell_type": "code",
   "execution_count": 18,
   "id": "e341380d",
   "metadata": {},
   "outputs": [
    {
     "data": {
      "text/plain": [
       "3"
      ]
     },
     "metadata": {},
     "output_type": "display_data"
    },
    {
     "data": {
      "text/plain": [
       "3"
      ]
     },
     "metadata": {},
     "output_type": "display_data"
    },
    {
     "data": {
      "text/plain": [
       "6"
      ]
     },
     "metadata": {},
     "output_type": "display_data"
    },
    {
     "data": {
      "text/plain": [
       "6"
      ]
     },
     "metadata": {},
     "output_type": "display_data"
    }
   ],
   "source": [
    "curry2 add2T 1 2\n",
    "uncurry2 add2C (1, 2)\n",
    "curry3 add3T 1 2 3\n",
    "uncurry3 add3C (1, 2, 3)"
   ]
  },
  {
   "cell_type": "markdown",
   "id": "4d531417",
   "metadata": {},
   "source": [
    "## Zadania #2"
   ]
  }
 ],
 "metadata": {
  "kernelspec": {
   "display_name": "Haskell",
   "language": "haskell",
   "name": "haskell"
  },
  "language_info": {
   "codemirror_mode": "ihaskell",
   "file_extension": ".hs",
   "mimetype": "text/x-haskell",
   "name": "haskell",
   "pygments_lexer": "Haskell",
   "version": "8.10.7"
  }
 },
 "nbformat": 4,
 "nbformat_minor": 5
}
