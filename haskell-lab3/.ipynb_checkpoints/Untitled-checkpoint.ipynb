{
 "cells": [
  {
   "cell_type": "markdown",
   "id": "c200da4a",
   "metadata": {},
   "source": [
    "# Lab_3"
   ]
  },
  {
   "cell_type": "code",
   "execution_count": null,
   "id": "581740e7",
   "metadata": {},
   "outputs": [],
   "source": []
  }
 ],
 "metadata": {
  "kernelspec": {
   "display_name": "Haskell",
   "language": "haskell",
   "name": "haskell"
  },
  "language_info": {
   "codemirror_mode": "ihaskell",
   "file_extension": ".hs",
   "mimetype": "text/x-haskell",
   "name": "haskell",
   "pygments_lexer": "Haskell",
   "version": "8.10.7"
  }
 },
 "nbformat": 4,
 "nbformat_minor": 5
}
