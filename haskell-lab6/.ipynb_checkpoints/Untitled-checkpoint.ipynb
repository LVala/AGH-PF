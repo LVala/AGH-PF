{
 "cells": [
  {
   "cell_type": "markdown",
   "id": "ddf55729",
   "metadata": {},
   "source": [
    "# Lab_6"
   ]
  },
  {
   "cell_type": "markdown",
   "id": "8b72ee15",
   "metadata": {},
   "source": [
    "## Zadania #1\n"
   ]
  },
  {
   "cell_type": "code",
   "execution_count": null,
   "id": "6ae81ac8",
   "metadata": {},
   "outputs": [],
   "source": []
  }
 ],
 "metadata": {
  "kernelspec": {
   "display_name": "Haskell",
   "language": "haskell",
   "name": "haskell"
  },
  "language_info": {
   "codemirror_mode": "ihaskell",
   "file_extension": ".hs",
   "mimetype": "text/x-haskell",
   "name": "haskell",
   "pygments_lexer": "Haskell",
   "version": "8.10.7"
  }
 },
 "nbformat": 4,
 "nbformat_minor": 5
}
