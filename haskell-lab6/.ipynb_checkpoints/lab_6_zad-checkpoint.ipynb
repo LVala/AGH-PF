{
 "cells": [
  {
   "cell_type": "markdown",
   "id": "ddf55729",
   "metadata": {},
   "source": [
    "# Lab_6"
   ]
  },
  {
   "cell_type": "markdown",
   "id": "8b72ee15",
   "metadata": {},
   "source": [
    "## Zadania #1\n",
    "**1.1 Zmodyfikować definicję tak, aby zamiast extractMaybe wykorzystać >^$>**"
   ]
  },
  {
   "cell_type": "code",
   "execution_count": 9,
   "id": "6ae81ac8",
   "metadata": {},
   "outputs": [
    {
     "data": {
      "text/html": [
       "<style>/* Styles used for the Hoogle display in the pager */\n",
       ".hoogle-doc {\n",
       "display: block;\n",
       "padding-bottom: 1.3em;\n",
       "padding-left: 0.4em;\n",
       "}\n",
       ".hoogle-code {\n",
       "display: block;\n",
       "font-family: monospace;\n",
       "white-space: pre;\n",
       "}\n",
       ".hoogle-text {\n",
       "display: block;\n",
       "}\n",
       ".hoogle-name {\n",
       "color: green;\n",
       "font-weight: bold;\n",
       "}\n",
       ".hoogle-head {\n",
       "font-weight: bold;\n",
       "}\n",
       ".hoogle-sub {\n",
       "display: block;\n",
       "margin-left: 0.4em;\n",
       "}\n",
       ".hoogle-package {\n",
       "font-weight: bold;\n",
       "font-style: italic;\n",
       "}\n",
       ".hoogle-module {\n",
       "font-weight: bold;\n",
       "}\n",
       ".hoogle-class {\n",
       "font-weight: bold;\n",
       "}\n",
       ".get-type {\n",
       "color: green;\n",
       "font-weight: bold;\n",
       "font-family: monospace;\n",
       "display: block;\n",
       "white-space: pre-wrap;\n",
       "}\n",
       ".show-type {\n",
       "color: green;\n",
       "font-weight: bold;\n",
       "font-family: monospace;\n",
       "margin-left: 1em;\n",
       "}\n",
       ".mono {\n",
       "font-family: monospace;\n",
       "display: block;\n",
       "}\n",
       ".err-msg {\n",
       "color: red;\n",
       "font-style: italic;\n",
       "font-family: monospace;\n",
       "white-space: pre;\n",
       "display: block;\n",
       "}\n",
       "#unshowable {\n",
       "color: red;\n",
       "font-weight: bold;\n",
       "}\n",
       ".err-msg.in.collapse {\n",
       "padding-top: 0.7em;\n",
       "}\n",
       ".highlight-code {\n",
       "white-space: pre;\n",
       "font-family: monospace;\n",
       "}\n",
       ".suggestion-warning { \n",
       "font-weight: bold;\n",
       "color: rgb(200, 130, 0);\n",
       "}\n",
       ".suggestion-error { \n",
       "font-weight: bold;\n",
       "color: red;\n",
       "}\n",
       ".suggestion-name {\n",
       "font-weight: bold;\n",
       "}\n",
       "</style><div class=\"suggestion-name\" style=\"clear:both;\">Avoid lambda</div><div class=\"suggestion-row\" style=\"float: left;\"><div class=\"suggestion-warning\">Found:</div><div class=\"highlight-code\" id=\"haskell\">\\ x -> g (extractMaybe (f x))</div></div><div class=\"suggestion-row\" style=\"float: left;\"><div class=\"suggestion-warning\">Why Not:</div><div class=\"highlight-code\" id=\"haskell\">g . extractMaybe . f</div></div>"
      ],
      "text/plain": [
       "Line 6: Avoid lambda\n",
       "Found:\n",
       "\\ x -> g (extractMaybe (f x))\n",
       "Why not:\n",
       "g . extractMaybe . f"
      ]
     },
     "metadata": {},
     "output_type": "display_data"
    }
   ],
   "source": [
    "extractMaybe :: Maybe a -> a\n",
    "extractMaybe Nothing  = error \"Nothing inside!\"\n",
    "extractMaybe (Just x) = x\n",
    "\n",
    "(>.>>) :: (a -> Maybe b) -> (b -> Maybe c) -> (a -> Maybe c)\n",
    "f >.>> g = \\x -> g (extractMaybe (f x)) -- do zmodyfikowania\n",
    "\n",
    "(>^$>) :: Maybe a -> (a -> Maybe b) -> Maybe b\n",
    "Nothing  >^$> _ = Nothing\n",
    "(Just x) >^$> f = f x\n",
    "infixl 1 >^$>"
   ]
  },
  {
   "cell_type": "code",
   "execution_count": 12,
   "id": "350fbb27",
   "metadata": {},
   "outputs": [
    {
     "data": {
      "text/plain": [
       "Just 10"
      ]
     },
     "metadata": {},
     "output_type": "display_data"
    }
   ],
   "source": [
    "(>.>>) :: (a -> Maybe b) -> (b -> Maybe c) -> (a -> Maybe c)\n",
    "f >.>> g = \\x -> f x >^$> g\n",
    "\n",
    "(\\x -> Just (x+2)) >.>> (\\x -> Just (x*2)) $ 3"
   ]
  },
  {
   "cell_type": "markdown",
   "id": "ddf5847f",
   "metadata": {},
   "source": [
    "**1.2 Ponownie zmodyfikować definicję, ale tym razem zamiast extractMaybe wykorzystać fmap**"
   ]
  },
  {
   "cell_type": "code",
   "execution_count": 36,
   "id": "8612dc81",
   "metadata": {},
   "outputs": [
    {
     "data": {
      "text/html": [
       "<style>/* Styles used for the Hoogle display in the pager */\n",
       ".hoogle-doc {\n",
       "display: block;\n",
       "padding-bottom: 1.3em;\n",
       "padding-left: 0.4em;\n",
       "}\n",
       ".hoogle-code {\n",
       "display: block;\n",
       "font-family: monospace;\n",
       "white-space: pre;\n",
       "}\n",
       ".hoogle-text {\n",
       "display: block;\n",
       "}\n",
       ".hoogle-name {\n",
       "color: green;\n",
       "font-weight: bold;\n",
       "}\n",
       ".hoogle-head {\n",
       "font-weight: bold;\n",
       "}\n",
       ".hoogle-sub {\n",
       "display: block;\n",
       "margin-left: 0.4em;\n",
       "}\n",
       ".hoogle-package {\n",
       "font-weight: bold;\n",
       "font-style: italic;\n",
       "}\n",
       ".hoogle-module {\n",
       "font-weight: bold;\n",
       "}\n",
       ".hoogle-class {\n",
       "font-weight: bold;\n",
       "}\n",
       ".get-type {\n",
       "color: green;\n",
       "font-weight: bold;\n",
       "font-family: monospace;\n",
       "display: block;\n",
       "white-space: pre-wrap;\n",
       "}\n",
       ".show-type {\n",
       "color: green;\n",
       "font-weight: bold;\n",
       "font-family: monospace;\n",
       "margin-left: 1em;\n",
       "}\n",
       ".mono {\n",
       "font-family: monospace;\n",
       "display: block;\n",
       "}\n",
       ".err-msg {\n",
       "color: red;\n",
       "font-style: italic;\n",
       "font-family: monospace;\n",
       "white-space: pre;\n",
       "display: block;\n",
       "}\n",
       "#unshowable {\n",
       "color: red;\n",
       "font-weight: bold;\n",
       "}\n",
       ".err-msg.in.collapse {\n",
       "padding-top: 0.7em;\n",
       "}\n",
       ".highlight-code {\n",
       "white-space: pre;\n",
       "font-family: monospace;\n",
       "}\n",
       ".suggestion-warning { \n",
       "font-weight: bold;\n",
       "color: rgb(200, 130, 0);\n",
       "}\n",
       ".suggestion-error { \n",
       "font-weight: bold;\n",
       "color: red;\n",
       "}\n",
       ".suggestion-name {\n",
       "font-weight: bold;\n",
       "}\n",
       "</style><div class=\"suggestion-name\" style=\"clear:both;\">Avoid lambda</div><div class=\"suggestion-row\" style=\"float: left;\"><div class=\"suggestion-warning\">Found:</div><div class=\"highlight-code\" id=\"haskell\">\\ x -> joinMaybe (fmap g (f x))</div></div><div class=\"suggestion-row\" style=\"float: left;\"><div class=\"suggestion-warning\">Why Not:</div><div class=\"highlight-code\" id=\"haskell\">joinMaybe . fmap g . f</div></div>"
      ],
      "text/plain": [
       "Line 7: Avoid lambda\n",
       "Found:\n",
       "\\ x -> joinMaybe (fmap g (f x))\n",
       "Why not:\n",
       "joinMaybe . fmap g . f"
      ]
     },
     "metadata": {},
     "output_type": "display_data"
    },
    {
     "data": {
      "text/plain": [
       "Just 10"
      ]
     },
     "metadata": {},
     "output_type": "display_data"
    }
   ],
   "source": [
    "joinMaybe :: Maybe (Maybe a) -> Maybe a\n",
    "joinMaybe Nothing = Nothing\n",
    "joinMaybe (Just (Just x)) = Just x\n",
    "joinMaybe (Just Nothing) = Nothing\n",
    "\n",
    "(>.>>) :: (a -> Maybe b) -> (b -> Maybe c) -> (a -> Maybe c)\n",
    "f >.>> g = \\x -> joinMaybe (fmap g (f x))\n",
    "\n",
    "(\\x -> Just (x+2)) >.>> (\\x -> Just (x*2)) $ 3"
   ]
  },
  {
   "cell_type": "markdown",
   "id": "30415c51",
   "metadata": {},
   "source": [
    "**1.3 Przeanalizować możliwość napisania funkcji extractIO (odpowiednika extractMaybe dla IO); uwaga: rozwiązanie wykorzystujące unsafePerformIO należy pominąć**"
   ]
  },
  {
   "cell_type": "code",
   "execution_count": 37,
   "id": "98eb833e",
   "metadata": {},
   "outputs": [],
   "source": [
    "-- TODO"
   ]
  },
  {
   "cell_type": "markdown",
   "id": "8bcadd40",
   "metadata": {},
   "source": [
    "**1.4 Napisać funkcje/operatory extract, insert, >^$> i (>.>>) dla funkcji postaci**"
   ]
  },
  {
   "cell_type": "code",
   "execution_count": 38,
   "id": "4699d82c",
   "metadata": {},
   "outputs": [],
   "source": [
    "-- TODO"
   ]
  },
  {
   "cell_type": "markdown",
   "id": "844d476c",
   "metadata": {},
   "source": [
    "## Zadania #2\n",
    "**2.1 (Dla monady Maybe) zdefiniować (>=>) przy pomocy >>=; czy można tę definicję uogólnić, aby była prawdziwa dla dowolnej monady?**"
   ]
  },
  {
   "cell_type": "code",
   "execution_count": 4,
   "id": "8ef223ae",
   "metadata": {},
   "outputs": [
    {
     "data": {
      "text/html": [
       "<style>/* Styles used for the Hoogle display in the pager */\n",
       ".hoogle-doc {\n",
       "display: block;\n",
       "padding-bottom: 1.3em;\n",
       "padding-left: 0.4em;\n",
       "}\n",
       ".hoogle-code {\n",
       "display: block;\n",
       "font-family: monospace;\n",
       "white-space: pre;\n",
       "}\n",
       ".hoogle-text {\n",
       "display: block;\n",
       "}\n",
       ".hoogle-name {\n",
       "color: green;\n",
       "font-weight: bold;\n",
       "}\n",
       ".hoogle-head {\n",
       "font-weight: bold;\n",
       "}\n",
       ".hoogle-sub {\n",
       "display: block;\n",
       "margin-left: 0.4em;\n",
       "}\n",
       ".hoogle-package {\n",
       "font-weight: bold;\n",
       "font-style: italic;\n",
       "}\n",
       ".hoogle-module {\n",
       "font-weight: bold;\n",
       "}\n",
       ".hoogle-class {\n",
       "font-weight: bold;\n",
       "}\n",
       ".get-type {\n",
       "color: green;\n",
       "font-weight: bold;\n",
       "font-family: monospace;\n",
       "display: block;\n",
       "white-space: pre-wrap;\n",
       "}\n",
       ".show-type {\n",
       "color: green;\n",
       "font-weight: bold;\n",
       "font-family: monospace;\n",
       "margin-left: 1em;\n",
       "}\n",
       ".mono {\n",
       "font-family: monospace;\n",
       "display: block;\n",
       "}\n",
       ".err-msg {\n",
       "color: red;\n",
       "font-style: italic;\n",
       "font-family: monospace;\n",
       "white-space: pre;\n",
       "display: block;\n",
       "}\n",
       "#unshowable {\n",
       "color: red;\n",
       "font-weight: bold;\n",
       "}\n",
       ".err-msg.in.collapse {\n",
       "padding-top: 0.7em;\n",
       "}\n",
       ".highlight-code {\n",
       "white-space: pre;\n",
       "font-family: monospace;\n",
       "}\n",
       ".suggestion-warning { \n",
       "font-weight: bold;\n",
       "color: rgb(200, 130, 0);\n",
       "}\n",
       ".suggestion-error { \n",
       "font-weight: bold;\n",
       "color: red;\n",
       "}\n",
       ".suggestion-name {\n",
       "font-weight: bold;\n",
       "}\n",
       "</style><div class=\"suggestion-name\" style=\"clear:both;\">Redundant lambda</div><div class=\"suggestion-row\" style=\"float: left;\"><div class=\"suggestion-warning\">Found:</div><div class=\"highlight-code\" id=\"haskell\">(>=>) f g = \\ x -> f x >>= g</div></div><div class=\"suggestion-row\" style=\"float: left;\"><div class=\"suggestion-warning\">Why Not:</div><div class=\"highlight-code\" id=\"haskell\">(>=>) f g x = f x >>= g</div></div>"
      ],
      "text/plain": [
       "Line 2: Redundant lambda\n",
       "Found:\n",
       "(>=>) f g = \\ x -> f x >>= g\n",
       "Why not:\n",
       "(>=>) f g x = f x >>= g"
      ]
     },
     "metadata": {},
     "output_type": "display_data"
    }
   ],
   "source": [
    "(>=>) :: Monad m => (a -> m b) -> (b -> m c) -> (a -> m c)\n",
    "(>=>) f g = \\x -> f x >>= g"
   ]
  },
  {
   "cell_type": "markdown",
   "id": "5e7f70ca",
   "metadata": {},
   "source": [
    "**2.2 Napisać funkcję join dla monady Maybe**"
   ]
  },
  {
   "cell_type": "code",
   "execution_count": 6,
   "id": "e729e119",
   "metadata": {},
   "outputs": [],
   "source": [
    "maybeJoin :: Maybe (Maybe a) -> Maybe a\n",
    "maybeJoin (Just (Just a)) = Just a\n",
    "maybeJoin (Just Nothing) = Nothing\n",
    "maybeJoin Nothing = Nothing"
   ]
  },
  {
   "cell_type": "markdown",
   "id": "af463105",
   "metadata": {},
   "source": [
    "**2.3 Napisać trzy wersje funkcji:**"
   ]
  },
  {
   "cell_type": "code",
   "execution_count": 23,
   "id": "19e8ea84",
   "metadata": {},
   "outputs": [
    {
     "data": {
      "text/plain": [
       "Just 20"
      ]
     },
     "metadata": {},
     "output_type": "display_data"
    },
    {
     "data": {
      "text/plain": [
       "Nothing"
      ]
     },
     "metadata": {},
     "output_type": "display_data"
    }
   ],
   "source": [
    "safeDiv :: Int -> Int -> Maybe Int\n",
    "safeDiv x y | y /= 0    = Just $ x `div` y\n",
    "            | otherwise = Nothing\n",
    "\n",
    "safeSum10DivXi :: [Int] -> Maybe Int\n",
    "safeSum10DivXi [] = Just 0\n",
    "safeSum10DivXi (x:xs) = \n",
    "    case safeDiv 10 x of\n",
    "        Nothing -> Nothing\n",
    "        Just newX -> case safeSum10DivXi xs of\n",
    "                            Nothing -> Nothing\n",
    "                            Just newY -> Just (newX + newY)\n",
    "                            \n",
    "safeSum10DivXi [1,2,3,4]\n",
    "safeSum10DivXi [1,0,3]"
   ]
  },
  {
   "cell_type": "code",
   "execution_count": 29,
   "id": "cbf162bf",
   "metadata": {},
   "outputs": [
    {
     "data": {
      "text/plain": [
       "Just 20"
      ]
     },
     "metadata": {},
     "output_type": "display_data"
    },
    {
     "data": {
      "text/plain": [
       "Nothing"
      ]
     },
     "metadata": {},
     "output_type": "display_data"
    }
   ],
   "source": [
    "safeSum10DivXi' :: [Int] -> Maybe Int\n",
    "safeSum10DivXi' [] = Just 0\n",
    "safeSum10DivXi' (x:xs) = do\n",
    "    newX <- safeDiv 10 x\n",
    "    newXs <- safeSum10DivXi' xs\n",
    "    return $ newX + newXs\n",
    "    \n",
    "safeSum10DivXi [1,2,3,4]\n",
    "safeSum10DivXi [1,0,3]"
   ]
  },
  {
   "cell_type": "code",
   "execution_count": 32,
   "id": "0b4af1d9",
   "metadata": {},
   "outputs": [
    {
     "data": {
      "text/plain": [
       "Just 20"
      ]
     },
     "metadata": {},
     "output_type": "display_data"
    },
    {
     "data": {
      "text/plain": [
       "Nothing"
      ]
     },
     "metadata": {},
     "output_type": "display_data"
    }
   ],
   "source": [
    "safeSum10DivXi'' :: [Int] -> Maybe Int\n",
    "safeSum10DivXi'' [] = Just 0\n",
    "safeSum10DivXi'' (x:xs) = safeDiv 10 x >>= \\x -> safeSum10DivXi'' xs >>= \\y -> return $ x + y\n",
    "\n",
    "safeSum10DivXi [1,2,3,4]\n",
    "safeSum10DivXi [1,0,3]"
   ]
  },
  {
   "cell_type": "markdown",
   "id": "8805b884",
   "metadata": {},
   "source": [
    "**2.4 Jak wyżej, ale dla funkcji**"
   ]
  },
  {
   "cell_type": "code",
   "execution_count": 34,
   "id": "2baf4395",
   "metadata": {},
   "outputs": [],
   "source": [
    "--safeProduct10DivXi [Int] -> Maybe Int\n",
    "--safeAbs10DivXi [Int] -> Maybe Int\n",
    "\n",
    "-- TODO"
   ]
  },
  {
   "cell_type": "markdown",
   "id": "7891aef1",
   "metadata": {},
   "source": [
    "**2.5 Sprawdzić możliwość uogólnienia powyższych rozwiązań przy pomocy funkcji**"
   ]
  },
  {
   "cell_type": "code",
   "execution_count": 35,
   "id": "ccd3be61",
   "metadata": {},
   "outputs": [],
   "source": [
    "--foldM :: (Foldable t, Monad m) => (b -> a -> m b) -> b -> t a -> m b\n",
    "-- TODO"
   ]
  },
  {
   "cell_type": "markdown",
   "id": "e0a1507e",
   "metadata": {},
   "source": [
    "**2.5 Sprawdzić \"prawa monadyczne\" dla monady Maybe; wskazówka: wykorzystać wersję z operatorem >=>**"
   ]
  },
  {
   "cell_type": "code",
   "execution_count": 36,
   "id": "0eaedcf2",
   "metadata": {},
   "outputs": [],
   "source": [
    "-- TODO"
   ]
  },
  {
   "cell_type": "markdown",
   "id": "f038880c",
   "metadata": {},
   "source": [
    "## Zadania #3\n",
    "**3.1 Napisać funkcję join dla monady (Either e)**"
   ]
  },
  {
   "cell_type": "code",
   "execution_count": null,
   "id": "a9921b65",
   "metadata": {},
   "outputs": [],
   "source": [
    "eitherJoin :: Either (Either a) -> Either a\n",
    "maybeJoin (Right (Left a)) = Left a\n",
    "maybeJoin (Right (Right a)) = Right a\n",
    "maybeJoin (Left (Right a)) = Right a\n",
    "maybeJoin (Left (Left a)) = Left a"
   ]
  }
 ],
 "metadata": {
  "kernelspec": {
   "display_name": "Haskell",
   "language": "haskell",
   "name": "haskell"
  },
  "language_info": {
   "codemirror_mode": "ihaskell",
   "file_extension": ".hs",
   "mimetype": "text/x-haskell",
   "name": "haskell",
   "pygments_lexer": "Haskell",
   "version": "8.10.7"
  }
 },
 "nbformat": 4,
 "nbformat_minor": 5
}
